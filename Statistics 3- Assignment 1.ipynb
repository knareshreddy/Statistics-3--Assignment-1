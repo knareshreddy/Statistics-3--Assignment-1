{
 "cells": [
  {
   "cell_type": "code",
   "execution_count": null,
   "metadata": {},
   "outputs": [],
   "source": [
    " # Blood glucose levels for obese patients have a mean of 100 with a standard deviation of\n",
    "15. A researcher thinks that a diet high in raw cornstarch will have a positive effect on\n",
    "blood glucose levels. A sample of 36 patients who have tried the raw cornstarch diet\n",
    "have a mean glucose level of 108. Test the hypothesis that the raw cornstarch had an\n",
    "effect or not."
   ]
  },
  {
   "cell_type": "code",
   "execution_count": null,
   "metadata": {},
   "outputs": [],
   "source": [
    "H0= Raw cornstarch diet has an effect on blood glucose levels\n",
    "\n",
    "Z=x-mean/(std .dev/sqrt of n)\n",
    "\n",
    "z=108-100/(15/6)= 8/(15/6)=3.2\n",
    "\n",
    "3.2 at significance level of 0.05 is 0.9994\n",
    "\n",
    "Negation of this 0.0006\n",
    "\n",
    "p value is less than alpha (significance level)\n",
    "\n",
    "Reject the Null Hypothesis\n",
    "\n",
    "Cornstarch diet has no impact on blood glucose levels "
   ]
  }
 ],
 "metadata": {
  "kernelspec": {
   "display_name": "Python 3",
   "language": "python",
   "name": "python3"
  },
  "language_info": {
   "codemirror_mode": {
    "name": "ipython",
    "version": 3
   },
   "file_extension": ".py",
   "mimetype": "text/x-python",
   "name": "python",
   "nbconvert_exporter": "python",
   "pygments_lexer": "ipython3",
   "version": "3.6.4"
  }
 },
 "nbformat": 4,
 "nbformat_minor": 2
}
